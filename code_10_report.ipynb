{
 "cells": [
  {
   "cell_type": "markdown",
   "metadata": {},
   "source": [
    "# Plan for Data Retrieval and analysis\n",
    "\n",
    "### With the Yelp API, I want to discover the sentiment analysis using VaderSentiment of the ramen places in Pittsburgh, Pennsylvania, since when I went this past summer I saw many places that looked promising but I didn't get to try.\n",
    "\n",
    "### I used the search term 'ramen' and the location 'Pittsburgh, PA' in my search query.\n",
    "\n",
    "### The business insight I want to discover in addition to personal curiosity, is to gauge the interest in ramen(japanese/korean) restaurants in this city based on the overall sentiment from the yelp reviews. "
   ]
  },
  {
   "cell_type": "code",
   "execution_count": 5,
   "metadata": {},
   "outputs": [
    {
     "name": "stdout",
     "output_type": "stream",
     "text": [
      "{'businesses': [{'id': 'kwYSvEQ_DS5U-1zR40q6fA', 'alias': 'insider-eats-pittsburgh', 'name': 'Insider Eats', 'image_url': 'https://s3-media2.fl.yelpcdn.com/bphoto/VwzgDP3gY3O8GYWkCM4qlg/o.jpg', 'is_closed': False, 'url': 'https://www.yelp.com/biz/insider-eats-pittsburgh?adjust_creative=riGs9HFJ8WOkIw6XYd7onA&utm_campaign=yelp_api_v3&utm_medium=api_v3_business_search&utm_source=riGs9HFJ8WOkIw6XYd7onA', 'review_count': 6, 'categories': [{'alias': 'fooddeliveryservices', 'title': 'Food Delivery Services'}], 'rating': 5.0, 'coordinates': {'latitude': 40.47224272772864, 'longitude': -79.91324192498786}, 'transactions': [], 'location': {'address1': None, 'address2': None, 'address3': None, 'city': 'Pittsburgh', 'zip_code': '15206', 'country': 'US', 'state': 'PA', 'display_address': ['Pittsburgh, PA 15206']}, 'phone': '', 'display_phone': '', 'distance': 6359.219931991653}, {'id': 'zzddtpIpkxjg3h-QK1a7_A', 'alias': 'sōcal-mexicali-grill-new-kensington-2', 'name': 'SōCal Mexicali Grill', 'image_url': 'https://s3-media4.fl.yelpcdn.com/bphoto/jXHGO0N_v2Q07M9uY9EXMw/o.jpg', 'is_closed': False, 'url': 'https://www.yelp.com/biz/s%C5%8Dcal-mexicali-grill-new-kensington-2?adjust_creative=riGs9HFJ8WOkIw6XYd7onA&utm_campaign=yelp_api_v3&utm_medium=api_v3_business_search&utm_source=riGs9HFJ8WOkIw6XYd7onA', 'review_count': 23, 'categories': [{'alias': 'mexican', 'title': 'Mexican'}, {'alias': 'poke', 'title': 'Poke'}, {'alias': 'ramen', 'title': 'Ramen'}], 'rating': 5.0, 'coordinates': {'latitude': 40.56275, 'longitude': -79.76421}, 'transactions': [], 'location': {'address1': '700 5th Ave', 'address2': None, 'address3': '', 'city': 'New Kensington', 'zip_code': '15068', 'country': 'US', 'state': 'PA', 'display_address': ['700 5th Ave', 'New Kensington, PA 15068']}, 'phone': '+17242123143', 'display_phone': '(724) 212-3143', 'distance': 22407.60023436006}, {'id': 'DUYO3j2zAjsQ94HYqbFsCA', 'alias': 'gaby-et-jules-café-pittsburgh-3', 'name': 'Gaby et Jules Café ', 'image_url': 'https://s3-media3.fl.yelpcdn.com/bphoto/GOmbxyxOSPfVS546TF_9Hw/o.jpg', 'is_closed': False, 'url': 'https://www.yelp.com/biz/gaby-et-jules-caf%C3%A9-pittsburgh-3?adjust_creative=riGs9HFJ8WOkIw6XYd7onA&utm_campaign=yelp_api_v3&utm_medium=api_v3_business_search&utm_source=riGs9HFJ8WOkIw6XYd7onA', 'review_count': 28, 'categories': [{'alias': 'bakeries', 'title': 'Bakeries'}, {'alias': 'macarons', 'title': 'Macarons'}, {'alias': 'chocolate', 'title': 'Chocolatiers & Shops'}], 'rating': 4.5, 'coordinates': {'latitude': 40.46104, 'longitude': -79.92448}, 'transactions': ['delivery'], 'location': {'address1': '6006 Penn Ave', 'address2': '', 'address3': None, 'city': 'Pittsburgh', 'zip_code': '15206', 'country': 'US', 'state': 'PA', 'display_address': ['6006 Penn Ave', 'Pittsburgh, PA 15206']}, 'phone': '+14126611966', 'display_phone': '(412) 661-1966', 'distance': 4971.833450978476}, {'id': 'E9Gnux898nomZK0fYErQVw', 'alias': 'everyday-cafe-pittsburgh', 'name': 'Everyday Cafe', 'image_url': 'https://s3-media2.fl.yelpcdn.com/bphoto/cOFCUcFubAqLW8GcPNX8Rg/o.jpg', 'is_closed': False, 'url': 'https://www.yelp.com/biz/everyday-cafe-pittsburgh?adjust_creative=riGs9HFJ8WOkIw6XYd7onA&utm_campaign=yelp_api_v3&utm_medium=api_v3_business_search&utm_source=riGs9HFJ8WOkIw6XYd7onA', 'review_count': 46, 'categories': [{'alias': 'cafes', 'title': 'Cafes'}], 'rating': 4.5, 'coordinates': {'latitude': 40.4533598854858, 'longitude': -79.8981681838632}, 'transactions': ['delivery'], 'price': '$', 'location': {'address1': '532 N Homewood Ave', 'address2': '', 'address3': None, 'city': 'Pittsburgh', 'zip_code': '15208', 'country': 'US', 'state': 'PA', 'display_address': ['532 N Homewood Ave', 'Pittsburgh, PA 15208']}, 'phone': '+14127272169', 'display_phone': '(412) 727-2169', 'distance': 6915.63090021836}, {'id': 'PNgDXioOLZ1aMFMihkdMBQ', 'alias': 'bryant-street-market-pittsburgh', 'name': 'Bryant Street Market', 'image_url': 'https://s3-media3.fl.yelpcdn.com/bphoto/j_NwjSwBTRqMWg308zlBbw/o.jpg', 'is_closed': False, 'url': 'https://www.yelp.com/biz/bryant-street-market-pittsburgh?adjust_creative=riGs9HFJ8WOkIw6XYd7onA&utm_campaign=yelp_api_v3&utm_medium=api_v3_business_search&utm_source=riGs9HFJ8WOkIw6XYd7onA', 'review_count': 26, 'categories': [{'alias': 'grocery', 'title': 'Grocery'}], 'rating': 4.5, 'coordinates': {'latitude': 40.47591, 'longitude': -79.91954}, 'transactions': [], 'price': '$$', 'location': {'address1': '5901 Bryant St', 'address2': '', 'address3': '', 'city': 'Pittsburgh', 'zip_code': '15206', 'country': 'US', 'state': 'PA', 'display_address': ['5901 Bryant St', 'Pittsburgh, PA 15206']}, 'phone': '+14126618720', 'display_phone': '(412) 661-8720', 'distance': 6113.464143857961}, {'id': 'rreIYrzI9U052p7nN_qogA', 'alias': 'pittsburgh-poke-pittsburgh-2', 'name': 'Pittsburgh Poke', 'image_url': 'https://s3-media4.fl.yelpcdn.com/bphoto/jO1C9JlolfuU0OjEiGNQ_Q/o.jpg', 'is_closed': False, 'url': 'https://www.yelp.com/biz/pittsburgh-poke-pittsburgh-2?adjust_creative=riGs9HFJ8WOkIw6XYd7onA&utm_campaign=yelp_api_v3&utm_medium=api_v3_business_search&utm_source=riGs9HFJ8WOkIw6XYd7onA', 'review_count': 152, 'categories': [{'alias': 'sushi', 'title': 'Sushi Bars'}, {'alias': 'poke', 'title': 'Poke'}, {'alias': 'thai', 'title': 'Thai'}], 'rating': 4.5, 'coordinates': {'latitude': 40.42912, 'longitude': -79.98181}, 'transactions': ['delivery', 'pickup'], 'price': '$$', 'location': {'address1': '1703 East Carson St', 'address2': '', 'address3': None, 'city': 'Pittsburgh', 'zip_code': '15203', 'country': 'US', 'state': 'PA', 'display_address': ['1703 East Carson St', 'Pittsburgh, PA 15203']}, 'phone': '+14129181366', 'display_phone': '(412) 918-1366', 'distance': 1744.3031823913198}, {'id': 'heJWGPIvNGeKycVXgSIxzA', 'alias': 'k-town-snack-bar-pittsburgh-2', 'name': 'K-Town Snack Bar', 'image_url': 'https://s3-media3.fl.yelpcdn.com/bphoto/VwclwahylfTou1cWHUe8xA/o.jpg', 'is_closed': False, 'url': 'https://www.yelp.com/biz/k-town-snack-bar-pittsburgh-2?adjust_creative=riGs9HFJ8WOkIw6XYd7onA&utm_campaign=yelp_api_v3&utm_medium=api_v3_business_search&utm_source=riGs9HFJ8WOkIw6XYd7onA', 'review_count': 26, 'categories': [{'alias': 'korean', 'title': 'Korean'}], 'rating': 4.0, 'coordinates': {'latitude': 40.441179, 'longitude': -79.956748}, 'transactions': ['delivery', 'pickup'], 'location': {'address1': '210 Oakland Ave', 'address2': '', 'address3': None, 'city': 'Pittsburgh', 'zip_code': '15213', 'country': 'US', 'state': 'PA', 'display_address': ['210 Oakland Ave', 'Pittsburgh, PA 15213']}, 'phone': '', 'display_phone': '', 'distance': 1923.9258445670278}, {'id': 'hcFSc0OHgZJybnjQBrL_8Q', 'alias': 'everyday-noodles-pittsburgh', 'name': 'Everyday Noodles', 'image_url': 'https://s3-media4.fl.yelpcdn.com/bphoto/OFlXsY2-fdfI3XVy20Q_5g/o.jpg', 'is_closed': False, 'url': 'https://www.yelp.com/biz/everyday-noodles-pittsburgh?adjust_creative=riGs9HFJ8WOkIw6XYd7onA&utm_campaign=yelp_api_v3&utm_medium=api_v3_business_search&utm_source=riGs9HFJ8WOkIw6XYd7onA', 'review_count': 948, 'categories': [{'alias': 'chinese', 'title': 'Chinese'}, {'alias': 'noodles', 'title': 'Noodles'}], 'rating': 4.0, 'coordinates': {'latitude': 40.438262, 'longitude': -79.920082}, 'transactions': ['delivery', 'pickup'], 'price': '$$', 'location': {'address1': '5875 Forbes Ave', 'address2': '', 'address3': '', 'city': 'Pittsburgh', 'zip_code': '15217', 'country': 'US', 'state': 'PA', 'display_address': ['5875 Forbes Ave', 'Pittsburgh, PA 15217']}, 'phone': '+14124216668', 'display_phone': '(412) 421-6668', 'distance': 5044.765193980327}, {'id': 'EXF-imcOSptiuzlirPjljA', 'alias': 'oya-sushi-and-korean-grill-pittsburgh-2', 'name': 'Oya Sushi & Korean Grill', 'image_url': 'https://s3-media3.fl.yelpcdn.com/bphoto/IDDFJsnfGF4Jl0m0YXCT0Q/o.jpg', 'is_closed': False, 'url': 'https://www.yelp.com/biz/oya-sushi-and-korean-grill-pittsburgh-2?adjust_creative=riGs9HFJ8WOkIw6XYd7onA&utm_campaign=yelp_api_v3&utm_medium=api_v3_business_search&utm_source=riGs9HFJ8WOkIw6XYd7onA', 'review_count': 158, 'categories': [{'alias': 'korean', 'title': 'Korean'}, {'alias': 'japanese', 'title': 'Japanese'}, {'alias': 'bbq', 'title': 'Barbeque'}], 'rating': 4.0, 'coordinates': {'latitude': 40.36948, 'longitude': -80.03506}, 'transactions': ['delivery'], 'price': '$$', 'location': {'address1': '325 Mt Lebanon Blvd', 'address2': '', 'address3': None, 'city': 'Pittsburgh', 'zip_code': '15234', 'country': 'US', 'state': 'PA', 'display_address': ['325 Mt Lebanon Blvd', 'Pittsburgh, PA 15234']}, 'phone': '+14128928602', 'display_phone': '(412) 892-8602', 'distance': 9612.206212357485}, {'id': 'da62X2tpj9tF0olWTigjBg', 'alias': 'little-tokyo-pittsburgh', 'name': 'Little Tokyo', 'image_url': 'https://s3-media4.fl.yelpcdn.com/bphoto/bR04adOzNVTSuMrcbnB2Ow/o.jpg', 'is_closed': False, 'url': 'https://www.yelp.com/biz/little-tokyo-pittsburgh?adjust_creative=riGs9HFJ8WOkIw6XYd7onA&utm_campaign=yelp_api_v3&utm_medium=api_v3_business_search&utm_source=riGs9HFJ8WOkIw6XYd7onA', 'review_count': 277, 'categories': [{'alias': 'sushi', 'title': 'Sushi Bars'}, {'alias': 'japanese', 'title': 'Japanese'}], 'rating': 4.0, 'coordinates': {'latitude': 40.3818, 'longitude': -80.04437}, 'transactions': ['delivery'], 'price': '$$', 'location': {'address1': '636 Washington Rd', 'address2': '', 'address3': '', 'city': 'Pittsburgh', 'zip_code': '15228', 'country': 'US', 'state': 'PA', 'display_address': ['636 Washington Rd', 'Pittsburgh, PA 15228']}, 'phone': '+14123444366', 'display_phone': '(412) 344-4366', 'distance': 8916.942734927658}, {'id': 'uS5BHjGpMDQMTzLfuMVmHw', 'alias': 'fujiya-ramen-pittsburgh-2', 'name': 'Fujiya Ramen', 'image_url': 'https://s3-media1.fl.yelpcdn.com/bphoto/I1bzaMD05hRb1tvo3FzwZA/o.jpg', 'is_closed': False, 'url': 'https://www.yelp.com/biz/fujiya-ramen-pittsburgh-2?adjust_creative=riGs9HFJ8WOkIw6XYd7onA&utm_campaign=yelp_api_v3&utm_medium=api_v3_business_search&utm_source=riGs9HFJ8WOkIw6XYd7onA', 'review_count': 234, 'categories': [{'alias': 'ramen', 'title': 'Ramen'}, {'alias': 'izakaya', 'title': 'Izakaya'}], 'rating': 4.0, 'coordinates': {'latitude': 40.4505, 'longitude': -79.93514}, 'transactions': ['delivery'], 'price': '$$', 'location': {'address1': '815 S Aiken Ave', 'address2': '', 'address3': None, 'city': 'Pittsburgh', 'zip_code': '15232', 'country': 'US', 'state': 'PA', 'display_address': ['815 S Aiken Ave', 'Pittsburgh, PA 15232']}, 'phone': '+14126880188', 'display_phone': '(412) 688-0188', 'distance': 3774.1507181949946}, {'id': 'Hdnx6cZBo0JfZopnQDWVYg', 'alias': 'teppanyaki-kyoto-pittsburgh', 'name': 'Teppanyaki Kyoto', 'image_url': 'https://s3-media4.fl.yelpcdn.com/bphoto/SqpYIliRBTBEG6drClLnxg/o.jpg', 'is_closed': False, 'url': 'https://www.yelp.com/biz/teppanyaki-kyoto-pittsburgh?adjust_creative=riGs9HFJ8WOkIw6XYd7onA&utm_campaign=yelp_api_v3&utm_medium=api_v3_business_search&utm_source=riGs9HFJ8WOkIw6XYd7onA', 'review_count': 212, 'categories': [{'alias': 'japanese', 'title': 'Japanese'}], 'rating': 4.0, 'coordinates': {'latitude': 40.47573, 'longitude': -79.9204}, 'transactions': ['delivery', 'pickup'], 'price': '$$', 'location': {'address1': '5808 Bryant St', 'address2': '', 'address3': '', 'city': 'Pittsburgh', 'zip_code': '15206', 'country': 'US', 'state': 'PA', 'display_address': ['5808 Bryant St', 'Pittsburgh, PA 15206']}, 'phone': '+14124411610', 'display_phone': '(412) 441-1610', 'distance': 6047.483787401374}, {'id': 'EeGMEOvdSJPp37tIyjhy4Q', 'alias': 'eiwa-japanese-ramen-and-bar-pittsburgh', 'name': 'Eiwa Japanese Ramen & Bar', 'image_url': 'https://s3-media4.fl.yelpcdn.com/bphoto/FByaHI6x8FvtHBOic1IphA/o.jpg', 'is_closed': False, 'url': 'https://www.yelp.com/biz/eiwa-japanese-ramen-and-bar-pittsburgh?adjust_creative=riGs9HFJ8WOkIw6XYd7onA&utm_campaign=yelp_api_v3&utm_medium=api_v3_business_search&utm_source=riGs9HFJ8WOkIw6XYd7onA', 'review_count': 31, 'categories': [{'alias': 'bars', 'title': 'Bars'}, {'alias': 'ramen', 'title': 'Ramen'}], 'rating': 4.0, 'coordinates': {'latitude': 40.529313175669415, 'longitude': -80.0078657}, 'transactions': ['delivery', 'pickup'], 'location': {'address1': '4860 McKnight Rd', 'address2': '', 'address3': None, 'city': 'Pittsburgh', 'zip_code': '15237', 'country': 'US', 'state': 'PA', 'display_address': ['4860 McKnight Rd', 'Pittsburgh, PA 15237']}, 'phone': '', 'display_phone': '', 'distance': 9720.851503975726}, {'id': 'z4EIzLJlGd7gyje1Q_hKtw', 'alias': 'federal-galley-pittsburgh-2', 'name': 'Federal Galley', 'image_url': 'https://s3-media3.fl.yelpcdn.com/bphoto/fb0nQzesUR1YpIUFK8VEMQ/o.jpg', 'is_closed': False, 'url': 'https://www.yelp.com/biz/federal-galley-pittsburgh-2?adjust_creative=riGs9HFJ8WOkIw6XYd7onA&utm_campaign=yelp_api_v3&utm_medium=api_v3_business_search&utm_source=riGs9HFJ8WOkIw6XYd7onA', 'review_count': 400, 'categories': [{'alias': 'newamerican', 'title': 'New American'}, {'alias': 'pizza', 'title': 'Pizza'}], 'rating': 4.0, 'coordinates': {'latitude': 40.451505758840526, 'longitude': -80.00603390226519}, 'transactions': [], 'price': '$$', 'location': {'address1': \"200 Children's Way\", 'address2': '', 'address3': None, 'city': 'Pittsburgh', 'zip_code': '15212', 'country': 'US', 'state': 'PA', 'display_address': [\"200 Children's Way\", 'Pittsburgh, PA 15212']}, 'phone': '', 'display_phone': '', 'distance': 2402.7396476052068}, {'id': '6Az5aA5sdrqwfJjnS8TROQ', 'alias': 'bao-pittsburgh', 'name': 'Bao', 'image_url': 'https://s3-media1.fl.yelpcdn.com/bphoto/oxFrFkialWwcm6ww4KwQ_A/o.jpg', 'is_closed': False, 'url': 'https://www.yelp.com/biz/bao-pittsburgh?adjust_creative=riGs9HFJ8WOkIw6XYd7onA&utm_campaign=yelp_api_v3&utm_medium=api_v3_business_search&utm_source=riGs9HFJ8WOkIw6XYd7onA', 'review_count': 194, 'categories': [{'alias': 'taiwanese', 'title': 'Taiwanese'}, {'alias': 'noodles', 'title': 'Noodles'}, {'alias': 'dimsum', 'title': 'Dim Sum'}], 'rating': 4.0, 'coordinates': {'latitude': 40.44123665182891, 'longitude': -79.95801470314531}, 'transactions': ['delivery', 'pickup'], 'price': '$$', 'location': {'address1': '114 Atwood St', 'address2': None, 'address3': '', 'city': 'Pittsburgh', 'zip_code': '15213', 'country': 'US', 'state': 'PA', 'display_address': ['114 Atwood St', 'Pittsburgh, PA 15213']}, 'phone': '+14124360068', 'display_phone': '(412) 436-0068', 'distance': 1824.4466282747142}, {'id': '4T2S83-q8rWa0FGVzxjmXQ', 'alias': 'love-ramen-pittsburgh-7', 'name': 'Love Ramen', 'image_url': 'https://s3-media1.fl.yelpcdn.com/bphoto/hKRQgpAiAvnd99BAANQpkA/o.jpg', 'is_closed': False, 'url': 'https://www.yelp.com/biz/love-ramen-pittsburgh-7?adjust_creative=riGs9HFJ8WOkIw6XYd7onA&utm_campaign=yelp_api_v3&utm_medium=api_v3_business_search&utm_source=riGs9HFJ8WOkIw6XYd7onA', 'review_count': 7, 'categories': [{'alias': 'ramen', 'title': 'Ramen'}], 'rating': 4.0, 'coordinates': {'latitude': 40.44128, 'longitude': -79.9586}, 'transactions': [], 'price': '$$', 'location': {'address1': '3608 Fifth Ave', 'address2': None, 'address3': '', 'city': 'Pittsburgh', 'zip_code': '15213', 'country': 'US', 'state': 'PA', 'display_address': ['3608 Fifth Ave', 'Pittsburgh, PA 15213']}, 'phone': '', 'display_phone': '', 'distance': 1768.051869885602}, {'id': 'usFaT18_t4Ql2ZrScBDEiw', 'alias': 'la-bodega-taqueria-pittsburgh', 'name': 'La Bodega Taqueria', 'image_url': 'https://s3-media3.fl.yelpcdn.com/bphoto/24wGDCrr2c-2DWb2l7zyPA/o.jpg', 'is_closed': False, 'url': 'https://www.yelp.com/biz/la-bodega-taqueria-pittsburgh?adjust_creative=riGs9HFJ8WOkIw6XYd7onA&utm_campaign=yelp_api_v3&utm_medium=api_v3_business_search&utm_source=riGs9HFJ8WOkIw6XYd7onA', 'review_count': 32, 'categories': [{'alias': 'tacos', 'title': 'Tacos'}, {'alias': 'tex-mex', 'title': 'Tex-Mex'}], 'rating': 4.0, 'coordinates': {'latitude': 40.42868, 'longitude': -79.98321}, 'transactions': ['delivery', 'pickup'], 'location': {'address1': '1502 E Carson St', 'address2': '', 'address3': None, 'city': 'Pittsburgh', 'zip_code': '15203', 'country': 'US', 'state': 'PA', 'display_address': ['1502 E Carson St', 'Pittsburgh, PA 15203']}, 'phone': '+14125864596', 'display_phone': '(412) 586-4596', 'distance': 1811.603639202788}, {'id': 'gomzC2CMt6MD_ykOSGwdDA', 'alias': 'sushi-tomo-pittsburgh', 'name': 'Sushi Tomo', 'image_url': 'https://s3-media2.fl.yelpcdn.com/bphoto/p4elREGpmBYVeSHTy8i5Fw/o.jpg', 'is_closed': False, 'url': 'https://www.yelp.com/biz/sushi-tomo-pittsburgh?adjust_creative=riGs9HFJ8WOkIw6XYd7onA&utm_campaign=yelp_api_v3&utm_medium=api_v3_business_search&utm_source=riGs9HFJ8WOkIw6XYd7onA', 'review_count': 245, 'categories': [{'alias': 'japanese', 'title': 'Japanese'}, {'alias': 'sushi', 'title': 'Sushi Bars'}, {'alias': 'chinese', 'title': 'Chinese'}], 'rating': 4.0, 'coordinates': {'latitude': 40.52581, 'longitude': -80.00491}, 'transactions': ['delivery', 'pickup'], 'price': '$$', 'location': {'address1': '4812 McKnight Rd', 'address2': '', 'address3': '', 'city': 'Pittsburgh', 'zip_code': '15237', 'country': 'US', 'state': 'PA', 'display_address': ['4812 McKnight Rd', 'Pittsburgh, PA 15237']}, 'phone': '+14126308666', 'display_phone': '(412) 630-8666', 'distance': 9281.010078169154}, {'id': '1_Dg-GguWatioW4mvFQKQA', 'alias': 'little-tokyo-bistro-pittsburgh', 'name': 'Little Tokyo Bistro', 'image_url': 'https://s3-media1.fl.yelpcdn.com/bphoto/2meEY3qyK-m3_3v80IpGHg/o.jpg', 'is_closed': False, 'url': 'https://www.yelp.com/biz/little-tokyo-bistro-pittsburgh?adjust_creative=riGs9HFJ8WOkIw6XYd7onA&utm_campaign=yelp_api_v3&utm_medium=api_v3_business_search&utm_source=riGs9HFJ8WOkIw6XYd7onA', 'review_count': 173, 'categories': [{'alias': 'sushi', 'title': 'Sushi Bars'}, {'alias': 'japanese', 'title': 'Japanese'}, {'alias': 'korean', 'title': 'Korean'}], 'rating': 4.0, 'coordinates': {'latitude': 40.4281845092773, 'longitude': -79.9753036499023}, 'transactions': ['delivery'], 'price': '$$', 'location': {'address1': '2122 E Carson St', 'address2': '', 'address3': '', 'city': 'Pittsburgh', 'zip_code': '15203', 'country': 'US', 'state': 'PA', 'display_address': ['2122 E Carson St', 'Pittsburgh, PA 15203']}, 'phone': '+14124889986', 'display_phone': '(412) 488-9986', 'distance': 1862.0163154320926}, {'id': 'rXKzE4Iraz7vGWovWW-aBA', 'alias': 'yuzu-kitchen-pittsburgh-2', 'name': 'Yuzu Kitchen', 'image_url': 'https://s3-media4.fl.yelpcdn.com/bphoto/JJ21XyXwxbZB87kYkhGAnw/o.jpg', 'is_closed': False, 'url': 'https://www.yelp.com/biz/yuzu-kitchen-pittsburgh-2?adjust_creative=riGs9HFJ8WOkIw6XYd7onA&utm_campaign=yelp_api_v3&utm_medium=api_v3_business_search&utm_source=riGs9HFJ8WOkIw6XYd7onA', 'review_count': 309, 'categories': [{'alias': 'ramen', 'title': 'Ramen'}, {'alias': 'cocktailbars', 'title': 'Cocktail Bars'}, {'alias': 'venues', 'title': 'Venues & Event Spaces'}], 'rating': 4.0, 'coordinates': {'latitude': 40.439707, 'longitude': -80.001261}, 'transactions': ['delivery'], 'price': '$$', 'location': {'address1': '409 Wood St', 'address2': '', 'address3': None, 'city': 'Pittsburgh', 'zip_code': '15222', 'country': 'US', 'state': 'PA', 'display_address': ['409 Wood St', 'Pittsburgh, PA 15222']}, 'phone': '+14122889900', 'display_phone': '(412) 288-9900', 'distance': 1955.4031260498014}], 'total': 106, 'region': {'center': {'longitude': -79.97909545898438, 'latitude': 40.44467404448069}}}\n"
     ]
    }
   ],
   "source": [
    "import pandas as pd\n",
    "from yelpapi import YelpAPI \n",
    "\n",
    "api_key=\"I1IOqaJO_GmgvsxusTF7udhYmBMKPTkGYRvTfCymqfp_epg-CJOkrd9HzSk7Ga4HYQdTNdAiM8O-h6fNpx5dnQksa7lCCmNuVl5_Jc-w1rYxmIYUbjbS7i-LVz1IZXYx\" \n",
    "yelp_api = YelpAPI(api_key)\n",
    "search_term = \"ramen\"\n",
    "location_term = \"Pittsburgh, PA\"\n",
    "search_results = yelp_api.search_query(term=search_term, location=location_term, sort_by='rating', limit=20, offset=20)\n",
    "# List of results in search_results['businesses']\n",
    "print(search_results)\n",
    "\n",
    "result_df = pd.DataFrame.from_dict(search_results['businesses'])\n",
    "result_df.to_csv(\"yelpapi_businesses_results.csv\")"
   ]
  },
  {
   "cell_type": "code",
   "execution_count": 6,
   "metadata": {},
   "outputs": [
    {
     "name": "stdout",
     "output_type": "stream",
     "text": [
      "{'reviews': [{'id': 'ocWOdKiy1ytweN9Znf6CLg', 'url': 'https://www.yelp.com/biz/ramen-king-canonsburg-3?adjust_creative=riGs9HFJ8WOkIw6XYd7onA&hrid=ocWOdKiy1ytweN9Znf6CLg&utm_campaign=yelp_api_v3&utm_medium=api_v3_business_reviews&utm_source=riGs9HFJ8WOkIw6XYd7onA', 'text': 'The food was delicious!!! Staff was very friendly and helpful. And if you want to do takeout, they have the BEST takeout containers for their soups!!!\\n\\nThe...', 'rating': 5, 'time_created': '2023-08-19 14:12:47', 'user': {'id': 'BWID32vBEJ86jp5vtc2H0A', 'profile_url': 'https://www.yelp.com/user_details?userid=BWID32vBEJ86jp5vtc2H0A', 'image_url': 'https://s3-media3.fl.yelpcdn.com/photo/oO7r7xmwir_Sba_nUCCisQ/o.jpg', 'name': 'Amy S.'}}, {'id': '2s-Q449EJLjynsOw7D36Dg', 'url': 'https://www.yelp.com/biz/ramen-king-canonsburg-3?adjust_creative=riGs9HFJ8WOkIw6XYd7onA&hrid=2s-Q449EJLjynsOw7D36Dg&utm_campaign=yelp_api_v3&utm_medium=api_v3_business_reviews&utm_source=riGs9HFJ8WOkIw6XYd7onA', 'text': 'We ordered delivery from Ramen King, and everything was delicious! The to-go bowls for their soup are genius - noodles up top separated from the broth...', 'rating': 5, 'time_created': '2023-11-27 17:03:35', 'user': {'id': 'oosXR1ENqMWC18Y1yRJxOg', 'profile_url': 'https://www.yelp.com/user_details?userid=oosXR1ENqMWC18Y1yRJxOg', 'image_url': 'https://s3-media1.fl.yelpcdn.com/photo/-01Pm6aM643MLIaCT8_7yQ/o.jpg', 'name': 'Jaclyn K.'}}, {'id': 'P7ilz6X_dJsirmzIVdcoVw', 'url': 'https://www.yelp.com/biz/ramen-king-canonsburg-3?adjust_creative=riGs9HFJ8WOkIw6XYd7onA&hrid=P7ilz6X_dJsirmzIVdcoVw&utm_campaign=yelp_api_v3&utm_medium=api_v3_business_reviews&utm_source=riGs9HFJ8WOkIw6XYd7onA', 'text': 'NOW KNOWN AS RAMEN KING\\n\\n\\nDefinitely the best sushi in the area by a long shot! Yes, you will pay a few dollars more, but the quality is double of what you...', 'rating': 5, 'time_created': '2023-02-04 06:27:43', 'user': {'id': 'royL3mfw4TOy76BRJDj8qg', 'profile_url': 'https://www.yelp.com/user_details?userid=royL3mfw4TOy76BRJDj8qg', 'image_url': 'https://s3-media3.fl.yelpcdn.com/photo/G2dNrfoHQwQymd2Fbm5lQQ/o.jpg', 'name': 'Kara B.'}}], 'total': 30, 'possible_languages': ['en', 'zh']}\n",
      "The food was delicious!!! Staff was very friendly and helpful. And if you want to do takeout, they have the BEST takeout containers for their soups!!!\n",
      "\n",
      "The...\n",
      "We ordered delivery from Ramen King, and everything was delicious! The to-go bowls for their soup are genius - noodles up top separated from the broth...\n",
      "NOW KNOWN AS RAMEN KING\n",
      "\n",
      "\n",
      "Definitely the best sushi in the area by a long shot! Yes, you will pay a few dollars more, but the quality is double of what you...\n",
      "                       id                                                url  \\\n",
      "0  ocWOdKiy1ytweN9Znf6CLg  https://www.yelp.com/biz/ramen-king-canonsburg...   \n",
      "1  2s-Q449EJLjynsOw7D36Dg  https://www.yelp.com/biz/ramen-king-canonsburg...   \n",
      "2  P7ilz6X_dJsirmzIVdcoVw  https://www.yelp.com/biz/ramen-king-canonsburg...   \n",
      "\n",
      "                                                text  rating  \\\n",
      "0  The food was delicious!!! Staff was very frien...       5   \n",
      "1  We ordered delivery from Ramen King, and every...       5   \n",
      "2  NOW KNOWN AS RAMEN KING\\n\\n\\nDefinitely the be...       5   \n",
      "\n",
      "          time_created                                               user  \n",
      "0  2023-08-19 14:12:47  {'id': 'BWID32vBEJ86jp5vtc2H0A', 'profile_url'...  \n",
      "1  2023-11-27 17:03:35  {'id': 'oosXR1ENqMWC18Y1yRJxOg', 'profile_url'...  \n",
      "2  2023-02-04 06:27:43  {'id': 'royL3mfw4TOy76BRJDj8qg', 'profile_url'...  \n"
     ]
    }
   ],
   "source": [
    "id_for_reviews = \"ramen-king-canonsburg-3\" #use alias from data \n",
    "review_response = yelp_api.reviews_query(id=id_for_reviews) # List of reviews in review_response['reviews']\n",
    "print(review_response)\n",
    "#Text is in element (review) text\n",
    "for review in review_response['reviews']:\n",
    "    print(review['text'])\n",
    "#Converting list of json objects to Pandas Data Frame\n",
    "result_df = pd.DataFrame.from_dict (review_response['reviews']) \n",
    "print(result_df)\n",
    "result_df.to_csv(f\"{id_for_reviews}_yelpapi_businesses_results.csv\")"
   ]
  },
  {
   "cell_type": "code",
   "execution_count": 7,
   "metadata": {},
   "outputs": [
    {
     "name": "stdout",
     "output_type": "stream",
     "text": [
      "{'reviews': [{'id': 'M68kfz5LNP12dKTl6m9nUA', 'url': 'https://www.yelp.com/biz/little-tokyo-pittsburgh?adjust_creative=riGs9HFJ8WOkIw6XYd7onA&hrid=M68kfz5LNP12dKTl6m9nUA&utm_campaign=yelp_api_v3&utm_medium=api_v3_business_reviews&utm_source=riGs9HFJ8WOkIw6XYd7onA', 'text': \"| Mt. Lebo - Pittsburgh, PA | \\nLittle Tokyo \\n\\n we're a family that loves little Tokyo! They have something for everyone. Hibachi for me, sushi for the rest...\", 'rating': 5, 'time_created': '2023-11-19 05:48:32', 'user': {'id': 'R5iKNIjsVPV5S6tVUaJbvg', 'profile_url': 'https://www.yelp.com/user_details?userid=R5iKNIjsVPV5S6tVUaJbvg', 'image_url': 'https://s3-media1.fl.yelpcdn.com/photo/zCvbnqDvw4bScsF8Tg_eOQ/o.jpg', 'name': 'Lisa S.'}}, {'id': 'XnOVD7KceuavqYHPtSH2kg', 'url': 'https://www.yelp.com/biz/little-tokyo-pittsburgh?adjust_creative=riGs9HFJ8WOkIw6XYd7onA&hrid=XnOVD7KceuavqYHPtSH2kg&utm_campaign=yelp_api_v3&utm_medium=api_v3_business_reviews&utm_source=riGs9HFJ8WOkIw6XYd7onA', 'text': 'Little Tokyo was an unexpected find. We were passing by and randomly decided to drop in for dinner because it looked interesting. The restaurant gives me...', 'rating': 4, 'time_created': '2023-09-23 08:52:52', 'user': {'id': 'W67UcQn8-BIHcifPwFM2ow', 'profile_url': 'https://www.yelp.com/user_details?userid=W67UcQn8-BIHcifPwFM2ow', 'image_url': 'https://s3-media2.fl.yelpcdn.com/photo/ojQThZb6435DD6twRBQxXg/o.jpg', 'name': 'Kaylie W.'}}, {'id': 'EF77cap4AwyEq6j-ihyWxA', 'url': 'https://www.yelp.com/biz/little-tokyo-pittsburgh?adjust_creative=riGs9HFJ8WOkIw6XYd7onA&hrid=EF77cap4AwyEq6j-ihyWxA&utm_campaign=yelp_api_v3&utm_medium=api_v3_business_reviews&utm_source=riGs9HFJ8WOkIw6XYd7onA', 'text': 'I love Little Tokyo! I recommend the miso soup it was straight bussin. A little pricey but you get your moneys worth with taste.', 'rating': 4, 'time_created': '2023-11-06 16:55:05', 'user': {'id': 'DD73vnQayOXJ38u2YEByRA', 'profile_url': 'https://www.yelp.com/user_details?userid=DD73vnQayOXJ38u2YEByRA', 'image_url': 'https://s3-media2.fl.yelpcdn.com/photo/3svlmgHWeqIVOr8wy5SBbg/o.jpg', 'name': 'Otto M.'}}], 'total': 277, 'possible_languages': ['en', 'fr']}\n",
      "| Mt. Lebo - Pittsburgh, PA | \n",
      "Little Tokyo \n",
      "\n",
      " we're a family that loves little Tokyo! They have something for everyone. Hibachi for me, sushi for the rest...\n",
      "Little Tokyo was an unexpected find. We were passing by and randomly decided to drop in for dinner because it looked interesting. The restaurant gives me...\n",
      "I love Little Tokyo! I recommend the miso soup it was straight bussin. A little pricey but you get your moneys worth with taste.\n",
      "                       id                                                url  \\\n",
      "0  M68kfz5LNP12dKTl6m9nUA  https://www.yelp.com/biz/little-tokyo-pittsbur...   \n",
      "1  XnOVD7KceuavqYHPtSH2kg  https://www.yelp.com/biz/little-tokyo-pittsbur...   \n",
      "2  EF77cap4AwyEq6j-ihyWxA  https://www.yelp.com/biz/little-tokyo-pittsbur...   \n",
      "\n",
      "                                                text  rating  \\\n",
      "0  | Mt. Lebo - Pittsburgh, PA | \\nLittle Tokyo \\...       5   \n",
      "1  Little Tokyo was an unexpected find. We were p...       4   \n",
      "2  I love Little Tokyo! I recommend the miso soup...       4   \n",
      "\n",
      "          time_created                                               user  \n",
      "0  2023-11-19 05:48:32  {'id': 'R5iKNIjsVPV5S6tVUaJbvg', 'profile_url'...  \n",
      "1  2023-09-23 08:52:52  {'id': 'W67UcQn8-BIHcifPwFM2ow', 'profile_url'...  \n",
      "2  2023-11-06 16:55:05  {'id': 'DD73vnQayOXJ38u2YEByRA', 'profile_url'...  \n"
     ]
    }
   ],
   "source": [
    "id_for_reviews = \"little-tokyo-pittsburgh\" #use alias from data \n",
    "review_response = yelp_api.reviews_query(id=id_for_reviews) # List of reviews in review_response['reviews']\n",
    "print(review_response)\n",
    "#Text is in element (review) text\n",
    "for review in review_response['reviews']:\n",
    "    print(review['text'])\n",
    "#Converting list of json objects to Pandas Data Frame\n",
    "result_df = pd.DataFrame.from_dict (review_response['reviews']) \n",
    "print(result_df)\n",
    "result_df.to_csv(f\"{id_for_reviews}_yelpapi_businesses_results.csv\")"
   ]
  },
  {
   "cell_type": "code",
   "execution_count": 8,
   "metadata": {},
   "outputs": [
    {
     "name": "stdout",
     "output_type": "stream",
     "text": [
      "{'reviews': [{'id': 'Pl75NFuN6fgSsaZHzBXE5w', 'url': 'https://www.yelp.com/biz/fujiya-ramen-pittsburgh-2?adjust_creative=riGs9HFJ8WOkIw6XYd7onA&hrid=Pl75NFuN6fgSsaZHzBXE5w&utm_campaign=yelp_api_v3&utm_medium=api_v3_business_reviews&utm_source=riGs9HFJ8WOkIw6XYd7onA', 'text': 'Just around the corner from Walnut Street in Squirrel Hill is this treasure of a ramen restaurant like finding a pearl in an oyster! \\nWe were hungry and...', 'rating': 5, 'time_created': '2023-10-23 14:06:29', 'user': {'id': '5FZvKqbyF2GKc16IK9kTlg', 'profile_url': 'https://www.yelp.com/user_details?userid=5FZvKqbyF2GKc16IK9kTlg', 'image_url': 'https://s3-media2.fl.yelpcdn.com/photo/YRX8XWrqDNA7odW6a8UoBw/o.jpg', 'name': 'Einas S.'}}, {'id': 'E8ic2My3JP6T_B-bRXdrNA', 'url': 'https://www.yelp.com/biz/fujiya-ramen-pittsburgh-2?adjust_creative=riGs9HFJ8WOkIw6XYd7onA&hrid=E8ic2My3JP6T_B-bRXdrNA&utm_campaign=yelp_api_v3&utm_medium=api_v3_business_reviews&utm_source=riGs9HFJ8WOkIw6XYd7onA', 'text': \"According to Fujiya Ramen's website, this restaurant is run by a Japanese father and son who strive to serve authentic Japanese cuisine. In addition to...\", 'rating': 4, 'time_created': '2023-11-17 13:13:49', 'user': {'id': 'FW5F5QzzMoeRdIib1OyNOw', 'profile_url': 'https://www.yelp.com/user_details?userid=FW5F5QzzMoeRdIib1OyNOw', 'image_url': 'https://s3-media4.fl.yelpcdn.com/photo/wBtiQXMbokTkG0WhcTwkEg/o.jpg', 'name': 'Tiffany Y.'}}, {'id': 'Or7E8XgJGPQ_-rto-H5oDg', 'url': 'https://www.yelp.com/biz/fujiya-ramen-pittsburgh-2?adjust_creative=riGs9HFJ8WOkIw6XYd7onA&hrid=Or7E8XgJGPQ_-rto-H5oDg&utm_campaign=yelp_api_v3&utm_medium=api_v3_business_reviews&utm_source=riGs9HFJ8WOkIw6XYd7onA', 'text': 'My daughter was craving ramen so we found this gem on Yelp. Everything was delicious and the service was great. The sake menu is extensive. We ordered:\\n-...', 'rating': 5, 'time_created': '2023-08-25 06:53:03', 'user': {'id': 'MjbSNoaPW1i6GzVVOG6Hfg', 'profile_url': 'https://www.yelp.com/user_details?userid=MjbSNoaPW1i6GzVVOG6Hfg', 'image_url': 'https://s3-media3.fl.yelpcdn.com/photo/VMCYGMxQbfvdrWgkYcHSUw/o.jpg', 'name': 'M S.'}}], 'total': 234, 'possible_languages': ['en', 'de', 'ja', 'es', 'fr']}\n",
      "Just around the corner from Walnut Street in Squirrel Hill is this treasure of a ramen restaurant like finding a pearl in an oyster! \n",
      "We were hungry and...\n",
      "According to Fujiya Ramen's website, this restaurant is run by a Japanese father and son who strive to serve authentic Japanese cuisine. In addition to...\n",
      "My daughter was craving ramen so we found this gem on Yelp. Everything was delicious and the service was great. The sake menu is extensive. We ordered:\n",
      "-...\n",
      "                       id                                                url  \\\n",
      "0  Pl75NFuN6fgSsaZHzBXE5w  https://www.yelp.com/biz/fujiya-ramen-pittsbur...   \n",
      "1  E8ic2My3JP6T_B-bRXdrNA  https://www.yelp.com/biz/fujiya-ramen-pittsbur...   \n",
      "2  Or7E8XgJGPQ_-rto-H5oDg  https://www.yelp.com/biz/fujiya-ramen-pittsbur...   \n",
      "\n",
      "                                                text  rating  \\\n",
      "0  Just around the corner from Walnut Street in S...       5   \n",
      "1  According to Fujiya Ramen's website, this rest...       4   \n",
      "2  My daughter was craving ramen so we found this...       5   \n",
      "\n",
      "          time_created                                               user  \n",
      "0  2023-10-23 14:06:29  {'id': '5FZvKqbyF2GKc16IK9kTlg', 'profile_url'...  \n",
      "1  2023-11-17 13:13:49  {'id': 'FW5F5QzzMoeRdIib1OyNOw', 'profile_url'...  \n",
      "2  2023-08-25 06:53:03  {'id': 'MjbSNoaPW1i6GzVVOG6Hfg', 'profile_url'...  \n"
     ]
    }
   ],
   "source": [
    "id_for_reviews = \"fujiya-ramen-pittsburgh-2\" #use alias from data \n",
    "review_response = yelp_api.reviews_query(id=id_for_reviews) # List of reviews in review_response['reviews']\n",
    "print(review_response)\n",
    "#Text is in element (review) text\n",
    "for review in review_response['reviews']:\n",
    "    print(review['text'])\n",
    "#Converting list of json objects to Pandas Data Frame\n",
    "result_df = pd.DataFrame.from_dict (review_response['reviews']) \n",
    "print(result_df)\n",
    "result_df.to_csv(f\"{id_for_reviews}_yelpapi_businesses_results.csv\")"
   ]
  },
  {
   "cell_type": "code",
   "execution_count": 9,
   "metadata": {},
   "outputs": [
    {
     "name": "stdout",
     "output_type": "stream",
     "text": [
      "{'reviews': [{'id': '5Gz3XJGyVV2pa1hNEuNLUQ', 'url': 'https://www.yelp.com/biz/eiwa-japanese-ramen-and-bar-pittsburgh?adjust_creative=riGs9HFJ8WOkIw6XYd7onA&hrid=5Gz3XJGyVV2pa1hNEuNLUQ&utm_campaign=yelp_api_v3&utm_medium=api_v3_business_reviews&utm_source=riGs9HFJ8WOkIw6XYd7onA', 'text': '4.5 stars overall.\\n\\nEiwa is a restaurant that opened in June 2023 and serves mostly Japanese and some other Asian foods. Please see my attached photos for...', 'rating': 5, 'time_created': '2023-07-09 12:44:44', 'user': {'id': 'FW5F5QzzMoeRdIib1OyNOw', 'profile_url': 'https://www.yelp.com/user_details?userid=FW5F5QzzMoeRdIib1OyNOw', 'image_url': 'https://s3-media4.fl.yelpcdn.com/photo/wBtiQXMbokTkG0WhcTwkEg/o.jpg', 'name': 'Tiffany Y.'}}, {'id': 'ZU6yUh1HLV3_S8I9mIQ0fQ', 'url': 'https://www.yelp.com/biz/eiwa-japanese-ramen-and-bar-pittsburgh?adjust_creative=riGs9HFJ8WOkIw6XYd7onA&hrid=ZU6yUh1HLV3_S8I9mIQ0fQ&utm_campaign=yelp_api_v3&utm_medium=api_v3_business_reviews&utm_source=riGs9HFJ8WOkIw6XYd7onA', 'text': \"We came in for pho and were told the 'chef is off today' and I had to pick something else. So I did, and was told 'we don't have that, the chef is off...\", 'rating': 1, 'time_created': '2023-10-04 08:44:46', 'user': {'id': 'H5g9ejAiNIBEvVfAf0RdMg', 'profile_url': 'https://www.yelp.com/user_details?userid=H5g9ejAiNIBEvVfAf0RdMg', 'image_url': 'https://s3-media3.fl.yelpcdn.com/photo/r8vnx8WuIIQk0rdJ0Tdw_w/o.jpg', 'name': 'Jason P.'}}, {'id': 'aP5KtDudGXiG44u8f1S8ww', 'url': 'https://www.yelp.com/biz/eiwa-japanese-ramen-and-bar-pittsburgh?adjust_creative=riGs9HFJ8WOkIw6XYd7onA&hrid=aP5KtDudGXiG44u8f1S8ww&utm_campaign=yelp_api_v3&utm_medium=api_v3_business_reviews&utm_source=riGs9HFJ8WOkIw6XYd7onA', 'text': \"Pretty decent food I had from here. I tried the place that used to be here, and I'm a bit sad they closed down. Personally I preferred the last restaurant....\", 'rating': 3, 'time_created': '2023-09-01 16:40:03', 'user': {'id': 'o-Td0BfrYdYt-SsexsV8nA', 'profile_url': 'https://www.yelp.com/user_details?userid=o-Td0BfrYdYt-SsexsV8nA', 'image_url': 'https://s3-media2.fl.yelpcdn.com/photo/9z87e0r--1Esn5E871gVvA/o.jpg', 'name': 'Ulyana K.'}}], 'total': 31, 'possible_languages': ['en']}\n",
      "4.5 stars overall.\n",
      "\n",
      "Eiwa is a restaurant that opened in June 2023 and serves mostly Japanese and some other Asian foods. Please see my attached photos for...\n",
      "We came in for pho and were told the 'chef is off today' and I had to pick something else. So I did, and was told 'we don't have that, the chef is off...\n",
      "Pretty decent food I had from here. I tried the place that used to be here, and I'm a bit sad they closed down. Personally I preferred the last restaurant....\n",
      "                       id                                                url  \\\n",
      "0  5Gz3XJGyVV2pa1hNEuNLUQ  https://www.yelp.com/biz/eiwa-japanese-ramen-a...   \n",
      "1  ZU6yUh1HLV3_S8I9mIQ0fQ  https://www.yelp.com/biz/eiwa-japanese-ramen-a...   \n",
      "2  aP5KtDudGXiG44u8f1S8ww  https://www.yelp.com/biz/eiwa-japanese-ramen-a...   \n",
      "\n",
      "                                                text  rating  \\\n",
      "0  4.5 stars overall.\\n\\nEiwa is a restaurant tha...       5   \n",
      "1  We came in for pho and were told the 'chef is ...       1   \n",
      "2  Pretty decent food I had from here. I tried th...       3   \n",
      "\n",
      "          time_created                                               user  \n",
      "0  2023-07-09 12:44:44  {'id': 'FW5F5QzzMoeRdIib1OyNOw', 'profile_url'...  \n",
      "1  2023-10-04 08:44:46  {'id': 'H5g9ejAiNIBEvVfAf0RdMg', 'profile_url'...  \n",
      "2  2023-09-01 16:40:03  {'id': 'o-Td0BfrYdYt-SsexsV8nA', 'profile_url'...  \n"
     ]
    }
   ],
   "source": [
    "id_for_reviews = \"eiwa-japanese-ramen-and-bar-pittsburgh\" #use alias from data \n",
    "review_response = yelp_api.reviews_query(id=id_for_reviews) # List of reviews in review_response['reviews']\n",
    "print(review_response)\n",
    "#Text is in element (review) text\n",
    "for review in review_response['reviews']:\n",
    "    print(review['text'])\n",
    "#Converting list of json objects to Pandas Data Frame\n",
    "result_df = pd.DataFrame.from_dict (review_response['reviews']) \n",
    "print(result_df)\n",
    "result_df.to_csv(f\"{id_for_reviews}_yelpapi_businesses_results.csv\")"
   ]
  },
  {
   "cell_type": "code",
   "execution_count": 10,
   "metadata": {},
   "outputs": [
    {
     "name": "stdout",
     "output_type": "stream",
     "text": [
      "{'reviews': [{'id': 'BYcLQsbyMPH03Xo-Yha3-g', 'url': 'https://www.yelp.com/biz/love-ramen-pittsburgh-7?adjust_creative=riGs9HFJ8WOkIw6XYd7onA&hrid=BYcLQsbyMPH03Xo-Yha3-g&utm_campaign=yelp_api_v3&utm_medium=api_v3_business_reviews&utm_source=riGs9HFJ8WOkIw6XYd7onA', 'text': 'Very good food, as a college student on a budget the \"weigh your meal for the price\" system works well. Definitely plan on coming back in the future. Only...', 'rating': 4, 'time_created': '2022-03-15 20:31:59', 'user': {'id': 'VD7yhJxp4CHVJLrXiKDhYw', 'profile_url': 'https://www.yelp.com/user_details?userid=VD7yhJxp4CHVJLrXiKDhYw', 'image_url': 'https://s3-media4.fl.yelpcdn.com/photo/0ZtyrC3RQrhps3qRBCmyMg/o.jpg', 'name': 'Katy K.'}}, {'id': 'c3WsbbL-oo5-o5plEn8QWw', 'url': 'https://www.yelp.com/biz/love-ramen-pittsburgh-7?adjust_creative=riGs9HFJ8WOkIw6XYd7onA&hrid=c3WsbbL-oo5-o5plEn8QWw&utm_campaign=yelp_api_v3&utm_medium=api_v3_business_reviews&utm_source=riGs9HFJ8WOkIw6XYd7onA', 'text': 'Basics to Love Ramen:\\n\\n1) Hard to find since sign really is not visible!  Look for Chinese wording of Fifth Street and inside has a reddish theme.\\n\\n2) Not...', 'rating': 4, 'time_created': '2019-10-13 19:52:51', 'user': {'id': '6tbXpUIU6upoeqWNDo9k_A', 'profile_url': 'https://www.yelp.com/user_details?userid=6tbXpUIU6upoeqWNDo9k_A', 'image_url': 'https://s3-media4.fl.yelpcdn.com/photo/jCsDYTvL6WHwH9F49um9pA/o.jpg', 'name': 'Ken L.'}}, {'id': 'jxv2kLDcqJek7lEOd442jQ', 'url': 'https://www.yelp.com/biz/love-ramen-pittsburgh-7?adjust_creative=riGs9HFJ8WOkIw6XYd7onA&hrid=jxv2kLDcqJek7lEOd442jQ&utm_campaign=yelp_api_v3&utm_medium=api_v3_business_reviews&utm_source=riGs9HFJ8WOkIw6XYd7onA', 'text': 'This is my go-to place after a day of work/school! You could choose from their menu or make your own bowl of noodles which you would pay by weight. If you...', 'rating': 5, 'time_created': '2021-07-29 14:19:22', 'user': {'id': 'jAyFotJCNFkHeHQQyJBRLg', 'profile_url': 'https://www.yelp.com/user_details?userid=jAyFotJCNFkHeHQQyJBRLg', 'image_url': 'https://s3-media3.fl.yelpcdn.com/photo/b51Sk6qYz1mk6v_FneQO5g/o.jpg', 'name': 'James P.'}}], 'total': 7, 'possible_languages': ['en']}\n",
      "Very good food, as a college student on a budget the \"weigh your meal for the price\" system works well. Definitely plan on coming back in the future. Only...\n",
      "Basics to Love Ramen:\n",
      "\n",
      "1) Hard to find since sign really is not visible!  Look for Chinese wording of Fifth Street and inside has a reddish theme.\n",
      "\n",
      "2) Not...\n",
      "This is my go-to place after a day of work/school! You could choose from their menu or make your own bowl of noodles which you would pay by weight. If you...\n",
      "                       id                                                url  \\\n",
      "0  BYcLQsbyMPH03Xo-Yha3-g  https://www.yelp.com/biz/love-ramen-pittsburgh...   \n",
      "1  c3WsbbL-oo5-o5plEn8QWw  https://www.yelp.com/biz/love-ramen-pittsburgh...   \n",
      "2  jxv2kLDcqJek7lEOd442jQ  https://www.yelp.com/biz/love-ramen-pittsburgh...   \n",
      "\n",
      "                                                text  rating  \\\n",
      "0  Very good food, as a college student on a budg...       4   \n",
      "1  Basics to Love Ramen:\\n\\n1) Hard to find since...       4   \n",
      "2  This is my go-to place after a day of work/sch...       5   \n",
      "\n",
      "          time_created                                               user  \n",
      "0  2022-03-15 20:31:59  {'id': 'VD7yhJxp4CHVJLrXiKDhYw', 'profile_url'...  \n",
      "1  2019-10-13 19:52:51  {'id': '6tbXpUIU6upoeqWNDo9k_A', 'profile_url'...  \n",
      "2  2021-07-29 14:19:22  {'id': 'jAyFotJCNFkHeHQQyJBRLg', 'profile_url'...  \n"
     ]
    }
   ],
   "source": [
    "id_for_reviews = \"love-ramen-pittsburgh-7\" #use alias from data \n",
    "review_response = yelp_api.reviews_query(id=id_for_reviews) # List of reviews in review_response['reviews']\n",
    "print(review_response)\n",
    "#Text is in element (review) text\n",
    "for review in review_response['reviews']:\n",
    "    print(review['text'])\n",
    "#Converting list of json objects to Pandas Data Frame\n",
    "result_df = pd.DataFrame.from_dict (review_response['reviews']) \n",
    "print(result_df)\n",
    "result_df.to_csv(f\"{id_for_reviews}_yelpapi_businesses_results.csv\")"
   ]
  },
  {
   "cell_type": "markdown",
   "metadata": {},
   "source": [
    "## Sentiment Analysis Starts"
   ]
  },
  {
   "cell_type": "code",
   "execution_count": 14,
   "metadata": {},
   "outputs": [
    {
     "name": "stdout",
     "output_type": "stream",
     "text": [
      "The food was delicious!!! Staff was very friendly and helpful. And if you want to do takeout, they have the BEST takeout containers for their soups!!!\n",
      "\n",
      "The...\n",
      "{'neg': 0.0, 'neu': 0.555, 'pos': 0.445, 'compound': 0.9562}\n",
      "\n",
      "\n",
      "We ordered delivery from Ramen King, and everything was delicious! The to-go bowls for their soup are genius - noodles up top separated from the broth...\n",
      "{'neg': 0.0, 'neu': 0.806, 'pos': 0.194, 'compound': 0.6996}\n",
      "\n",
      "\n",
      "NOW KNOWN AS RAMEN KING\n",
      "\n",
      "\n",
      "Definitely the best sushi in the area by a long shot! Yes, you will pay a few dollars more, but the quality is double of what you...\n",
      "{'neg': 0.034, 'neu': 0.782, 'pos': 0.184, 'compound': 0.6588}\n",
      "\n",
      "\n"
     ]
    }
   ],
   "source": [
    "from vaderSentiment.vaderSentiment import SentimentIntensityAnalyzer\n",
    "\n",
    "analyzer = SentimentIntensityAnalyzer()\n",
    "review_response = pd.read_csv('ramen-king-canonsburg-3_yelpapi_businesses_results.csv')\n",
    "\n",
    "for review in review_response['text']:\n",
    "    sentiment_score = analyzer.polarity_scores(review)\n",
    "    print(review)\n",
    "    print(sentiment_score)\n",
    "    print('\\n')"
   ]
  },
  {
   "cell_type": "code",
   "execution_count": 21,
   "metadata": {},
   "outputs": [
    {
     "name": "stdout",
     "output_type": "stream",
     "text": [
      "Very good food as a college student on a budget the \"\"weigh your meal for the price\"\" system works well. Definitely plan on coming back in the future. Only\n",
      "{'neg': 0.0, 'neu': 0.765, 'pos': 0.235, 'compound': 0.7902}\n",
      "\n",
      "\n",
      "Basics to Love Ramen: Not\n",
      "{'neg': 0.0, 'neu': 0.488, 'pos': 0.512, 'compound': 0.6369}\n",
      "\n",
      "\n",
      "This is my go-to place after a day of work/school! You could choose from their menu or make your own bowl of noodles which you would pay by weight. If you\n",
      "{'neg': 0.053, 'neu': 0.947, 'pos': 0.0, 'compound': -0.1759}\n",
      "\n",
      "\n"
     ]
    }
   ],
   "source": [
    "analyzer = SentimentIntensityAnalyzer()\n",
    "review_response = pd.read_csv('love-ramen-pittsburgh-7_yelpapi_businesses_results.csv')\n",
    "\n",
    "for review in review_response['text']:\n",
    "    sentiment_score = analyzer.polarity_scores(review)\n",
    "    print(review)\n",
    "    print(sentiment_score)\n",
    "    print('\\n')"
   ]
  },
  {
   "cell_type": "code",
   "execution_count": 22,
   "metadata": {},
   "outputs": [
    {
     "name": "stdout",
     "output_type": "stream",
     "text": [
      "| Mt. Lebo - Pittsburgh, PA | \n",
      "Little Tokyo \n",
      "\n",
      " we're a family that loves little Tokyo! They have something for everyone. Hibachi for me, sushi for the rest...\n",
      "{'neg': 0.0, 'neu': 0.871, 'pos': 0.129, 'compound': 0.6114}\n",
      "\n",
      "\n",
      "Little Tokyo was an unexpected find. We were passing by and randomly decided to drop in for dinner because it looked interesting. The restaurant gives me...\n",
      "{'neg': 0.073, 'neu': 0.833, 'pos': 0.094, 'compound': 0.1531}\n",
      "\n",
      "\n",
      "I love Little Tokyo! I recommend the miso soup it was straight bussin. A little pricey but you get your moneys worth with taste.\n",
      "{'neg': 0.0, 'neu': 0.706, 'pos': 0.294, 'compound': 0.7438}\n",
      "\n",
      "\n"
     ]
    }
   ],
   "source": [
    "analyzer = SentimentIntensityAnalyzer()\n",
    "review_response = pd.read_csv('little-tokyo-pittsburgh_yelpapi_businesses_results.csv')\n",
    "\n",
    "for review in review_response['text']:\n",
    "    sentiment_score = analyzer.polarity_scores(review)\n",
    "    print(review)\n",
    "    print(sentiment_score)\n",
    "    print('\\n')"
   ]
  },
  {
   "cell_type": "code",
   "execution_count": 23,
   "metadata": {},
   "outputs": [
    {
     "name": "stdout",
     "output_type": "stream",
     "text": [
      "Just around the corner from Walnut Street in Squirrel Hill is this treasure of a ramen restaurant like finding a pearl in an oyster! \n",
      "We were hungry and...\n",
      "{'neg': 0.0, 'neu': 0.831, 'pos': 0.169, 'compound': 0.6476}\n",
      "\n",
      "\n",
      "According to Fujiya Ramen's website, this restaurant is run by a Japanese father and son who strive to serve authentic Japanese cuisine. In addition to...\n",
      "{'neg': 0.0, 'neu': 1.0, 'pos': 0.0, 'compound': 0.0}\n",
      "\n",
      "\n",
      "My daughter was craving ramen so we found this gem on Yelp. Everything was delicious and the service was great. The sake menu is extensive. We ordered:\n",
      "-...\n",
      "{'neg': 0.0, 'neu': 0.769, 'pos': 0.231, 'compound': 0.8316}\n",
      "\n",
      "\n"
     ]
    }
   ],
   "source": [
    "analyzer = SentimentIntensityAnalyzer()\n",
    "review_response = pd.read_csv('fujiya-ramen-pittsburgh-2_yelpapi_businesses_results.csv')\n",
    "\n",
    "for review in review_response['text']:\n",
    "    sentiment_score = analyzer.polarity_scores(review)\n",
    "    print(review)\n",
    "    print(sentiment_score)\n",
    "    print('\\n')"
   ]
  },
  {
   "cell_type": "code",
   "execution_count": 24,
   "metadata": {},
   "outputs": [
    {
     "name": "stdout",
     "output_type": "stream",
     "text": [
      "4.5 stars overall.\n",
      "\n",
      "Eiwa is a restaurant that opened in June 2023 and serves mostly Japanese and some other Asian foods. Please see my attached photos for...\n",
      "{'neg': 0.0, 'neu': 0.919, 'pos': 0.081, 'compound': 0.3182}\n",
      "\n",
      "\n",
      "We came in for pho and were told the 'chef is off today' and I had to pick something else. So I did, and was told 'we don't have that, the chef is off...\n",
      "{'neg': 0.0, 'neu': 1.0, 'pos': 0.0, 'compound': 0.0}\n",
      "\n",
      "\n",
      "Pretty decent food I had from here. I tried the place that used to be here, and I'm a bit sad they closed down. Personally I preferred the last restaurant....\n",
      "{'neg': 0.09, 'neu': 0.816, 'pos': 0.093, 'compound': 0.0258}\n",
      "\n",
      "\n"
     ]
    }
   ],
   "source": [
    "analyzer = SentimentIntensityAnalyzer()\n",
    "review_response = pd.read_csv('eiwa-japanese-ramen-and-bar-pittsburgh_yelpapi_businesses_results.csv')\n",
    "\n",
    "for review in review_response['text']:\n",
    "    sentiment_score = analyzer.polarity_scores(review)\n",
    "    print(review)\n",
    "    print(sentiment_score)\n",
    "    print('\\n')"
   ]
  },
  {
   "cell_type": "markdown",
   "metadata": {},
   "source": [
    "### Text Insights Section/Report\n",
    "\n",
    "Based on a cumulative amount of 15 reviews across 5 ramen restaurants, the overall consensus was positive. There were only a few completely neutral or very slightly negative sentiment scores from the Vader algorithm. If I were to go back to Pittsburgh, I would go to Ramen King since they had the most positive sentiment scores; and if I were to open or cater some service or business to fans of asian food, I would certainly consider this city's population as a customer.   "
   ]
  }
 ],
 "metadata": {
  "kernelspec": {
   "display_name": "base",
   "language": "python",
   "name": "python3"
  },
  "language_info": {
   "codemirror_mode": {
    "name": "ipython",
    "version": 3
   },
   "file_extension": ".py",
   "mimetype": "text/x-python",
   "name": "python",
   "nbconvert_exporter": "python",
   "pygments_lexer": "ipython3",
   "version": "3.10.10"
  }
 },
 "nbformat": 4,
 "nbformat_minor": 2
}
